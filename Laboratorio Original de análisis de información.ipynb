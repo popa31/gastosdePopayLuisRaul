{
 "cells": [
  {
   "cell_type": "code",
   "execution_count": 15,
   "metadata": {},
   "outputs": [],
   "source": [
    "import pandas as pd\n",
    "import os\n",
    "import numpy as np"
   ]
  },
  {
   "cell_type": "code",
   "execution_count": 2,
   "metadata": {},
   "outputs": [],
   "source": [
    "path = \"C:/Users/cesar/Desktop\"\n",
    "file = \"operaciones/gastos2021popayluis.csv\"\n",
    "pathdata = os.path.join(path,file)"
   ]
  },
  {
   "cell_type": "code",
   "execution_count": 3,
   "metadata": {},
   "outputs": [
    {
     "data": {
      "text/html": [
       "<div>\n",
       "<style scoped>\n",
       "    .dataframe tbody tr th:only-of-type {\n",
       "        vertical-align: middle;\n",
       "    }\n",
       "\n",
       "    .dataframe tbody tr th {\n",
       "        vertical-align: top;\n",
       "    }\n",
       "\n",
       "    .dataframe thead th {\n",
       "        text-align: right;\n",
       "    }\n",
       "</style>\n",
       "<table border=\"1\" class=\"dataframe\">\n",
       "  <thead>\n",
       "    <tr style=\"text-align: right;\">\n",
       "      <th></th>\n",
       "      <th>Gastos2021Popa</th>\n",
       "      <th>cantidad</th>\n",
       "      <th>fechas</th>\n",
       "      <th>Gastos2021Luis</th>\n",
       "      <th>cantidad.1</th>\n",
       "      <th>fechas.1</th>\n",
       "    </tr>\n",
       "  </thead>\n",
       "  <tbody>\n",
       "    <tr>\n",
       "      <th>0</th>\n",
       "      <td>matricula</td>\n",
       "      <td>750</td>\n",
       "      <td>Jan 20, 2021</td>\n",
       "      <td>matricula</td>\n",
       "      <td>700</td>\n",
       "      <td>Jan 15, 2021</td>\n",
       "    </tr>\n",
       "    <tr>\n",
       "      <th>1</th>\n",
       "      <td>zapato</td>\n",
       "      <td>300</td>\n",
       "      <td>Feb 9, 2021</td>\n",
       "      <td>combustible</td>\n",
       "      <td>100</td>\n",
       "      <td>Feb 14, 2021</td>\n",
       "    </tr>\n",
       "    <tr>\n",
       "      <th>2</th>\n",
       "      <td>mensulidad_U</td>\n",
       "      <td>1000</td>\n",
       "      <td>Feb 28, 2021</td>\n",
       "      <td>alimentacion</td>\n",
       "      <td>75</td>\n",
       "      <td>Mar 3, 2021</td>\n",
       "    </tr>\n",
       "    <tr>\n",
       "      <th>3</th>\n",
       "      <td>computadora_reparacion</td>\n",
       "      <td>300</td>\n",
       "      <td>Mar 10, 2021</td>\n",
       "      <td>mensualidad_U</td>\n",
       "      <td>1200</td>\n",
       "      <td>Mar 17,2021</td>\n",
       "    </tr>\n",
       "    <tr>\n",
       "      <th>4</th>\n",
       "      <td>mensualidad_2</td>\n",
       "      <td>1000</td>\n",
       "      <td>Mar 31, 2021</td>\n",
       "      <td>salud</td>\n",
       "      <td>25</td>\n",
       "      <td>Apr 2, 2021</td>\n",
       "    </tr>\n",
       "    <tr>\n",
       "      <th>5</th>\n",
       "      <td>mensualidad_3</td>\n",
       "      <td>1000</td>\n",
       "      <td>Apr 30, 2021</td>\n",
       "      <td>vestuario</td>\n",
       "      <td>50</td>\n",
       "      <td>Apr 25, 2021</td>\n",
       "    </tr>\n",
       "    <tr>\n",
       "      <th>6</th>\n",
       "      <td>mensualidad_4</td>\n",
       "      <td>1000</td>\n",
       "      <td>May 31, 2021</td>\n",
       "      <td>alimentacon</td>\n",
       "      <td>100</td>\n",
       "      <td>May 15, 2021</td>\n",
       "    </tr>\n",
       "  </tbody>\n",
       "</table>\n",
       "</div>"
      ],
      "text/plain": [
       "           Gastos2021Popa  cantidad        fechas Gastos2021Luis  cantidad.1  \\\n",
       "0               matricula       750  Jan 20, 2021      matricula         700   \n",
       "1                  zapato       300   Feb 9, 2021    combustible         100   \n",
       "2            mensulidad_U      1000  Feb 28, 2021   alimentacion          75   \n",
       "3  computadora_reparacion       300  Mar 10, 2021  mensualidad_U        1200   \n",
       "4           mensualidad_2      1000  Mar 31, 2021          salud          25   \n",
       "5           mensualidad_3      1000  Apr 30, 2021      vestuario          50   \n",
       "6           mensualidad_4      1000  May 31, 2021    alimentacon         100   \n",
       "\n",
       "       fechas.1  \n",
       "0  Jan 15, 2021  \n",
       "1  Feb 14, 2021  \n",
       "2   Mar 3, 2021  \n",
       "3   Mar 17,2021  \n",
       "4   Apr 2, 2021  \n",
       "5  Apr 25, 2021  \n",
       "6  May 15, 2021  "
      ]
     },
     "execution_count": 3,
     "metadata": {},
     "output_type": "execute_result"
    }
   ],
   "source": [
    "data = pd.read_csv(pathdata)\n",
    "data"
   ]
  },
  {
   "cell_type": "code",
   "execution_count": 16,
   "metadata": {},
   "outputs": [
    {
     "name": "stdout",
     "output_type": "stream",
     "text": [
      "   cantidad        fechas  cantidad.1      fechas.1\n",
      "0       750  Jan 20, 2021         700  Jan 15, 2021\n",
      "1       300   Feb 9, 2021         100  Feb 14, 2021\n",
      "2      1000  Feb 28, 2021          75   Mar 3, 2021\n",
      "3       300  Mar 10, 2021        1200   Mar 17,2021\n",
      "4      1000  Mar 31, 2021          25   Apr 2, 2021\n",
      "5      1000  Apr 30, 2021          50  Apr 25, 2021\n",
      "6      1000  May 31, 2021         100  May 15, 2021\n"
     ]
    }
   ],
   "source": [
    "#Pregunta No.1\n",
    "data = pd.read_csv(pathdata)\n",
    "data=data[[\"cantidad\",\"fechas\",\"cantidad.1\",\"fechas.1\"]]\n",
    "print(data)"
   ]
  },
  {
   "cell_type": "code",
   "execution_count": 24,
   "metadata": {},
   "outputs": [
    {
     "data": {
      "text/plain": [
       "(5350, 2250)"
      ]
     },
     "execution_count": 24,
     "metadata": {},
     "output_type": "execute_result"
    }
   ],
   "source": [
    "# Pregunta No.1\n",
    "\n",
    "data[\"cantidad\"].sum(),data[\"cantidad.1\"].sum()"
   ]
  },
  {
   "cell_type": "markdown",
   "metadata": {},
   "source": [
    "#Grafico de Circulo"
   ]
  },
  {
   "cell_type": "code",
   "execution_count": 29,
   "metadata": {},
   "outputs": [
    {
     "data": {
      "image/png": "[encoded data removed]",
      "text/plain": [
       "<Figure size 432x288 with 1 Axes>"
      ]
     },
     "metadata": {},
     "output_type": "display_data"
    }
   ],
   "source": [
    "#Pregunta No. 5\n",
    "\n",
    "import matplotlib.pyplot as plt\n",
    "\n",
    "gass = [\"César_Popa\", \"Lios_Raul\"]\n",
    "cantotal = [5350,2250]\n",
    "color = [\"r\",\"y\"]\n",
    "plt.pie(cantotal,labels=gass,colors=color,shadow=True,autopct=\"%1.2f%%\")\n",
    "plt.legend()\n",
    "plt.show()"
   ]
  },
  {
   "cell_type": "code",
   "execution_count": 33,
   "metadata": {},
   "outputs": [
    {
     "data": {
      "text/html": [
       "<div>\n",
       "<style scoped>\n",
       "    .dataframe tbody tr th:only-of-type {\n",
       "        vertical-align: middle;\n",
       "    }\n",
       "\n",
       "    .dataframe tbody tr th {\n",
       "        vertical-align: top;\n",
       "    }\n",
       "\n",
       "    .dataframe thead th {\n",
       "        text-align: right;\n",
       "    }\n",
       "</style>\n",
       "<table border=\"1\" class=\"dataframe\">\n",
       "  <thead>\n",
       "    <tr style=\"text-align: right;\">\n",
       "      <th></th>\n",
       "      <th>Gastos2021Popa</th>\n",
       "      <th>cantidad</th>\n",
       "      <th>fechas</th>\n",
       "      <th>Gastos2021Luis</th>\n",
       "      <th>cantidad.1</th>\n",
       "      <th>fechas.1</th>\n",
       "    </tr>\n",
       "  </thead>\n",
       "  <tbody>\n",
       "    <tr>\n",
       "      <th>0</th>\n",
       "      <td>matricula</td>\n",
       "      <td>750</td>\n",
       "      <td>Jan 20, 2021</td>\n",
       "      <td>matricula</td>\n",
       "      <td>700</td>\n",
       "      <td>Jan 15, 2021</td>\n",
       "    </tr>\n",
       "    <tr>\n",
       "      <th>1</th>\n",
       "      <td>zapato</td>\n",
       "      <td>300</td>\n",
       "      <td>Feb 9, 2021</td>\n",
       "      <td>combustible</td>\n",
       "      <td>100</td>\n",
       "      <td>Feb 14, 2021</td>\n",
       "    </tr>\n",
       "    <tr>\n",
       "      <th>2</th>\n",
       "      <td>mensulidad_U</td>\n",
       "      <td>1000</td>\n",
       "      <td>Feb 28, 2021</td>\n",
       "      <td>alimentacion</td>\n",
       "      <td>75</td>\n",
       "      <td>Mar 3, 2021</td>\n",
       "    </tr>\n",
       "    <tr>\n",
       "      <th>3</th>\n",
       "      <td>computadora_reparacion</td>\n",
       "      <td>300</td>\n",
       "      <td>Mar 10, 2021</td>\n",
       "      <td>mensualidad_U</td>\n",
       "      <td>1200</td>\n",
       "      <td>Mar 17,2021</td>\n",
       "    </tr>\n",
       "    <tr>\n",
       "      <th>4</th>\n",
       "      <td>mensualidad_2</td>\n",
       "      <td>1000</td>\n",
       "      <td>Mar 31, 2021</td>\n",
       "      <td>salud</td>\n",
       "      <td>25</td>\n",
       "      <td>Apr 2, 2021</td>\n",
       "    </tr>\n",
       "    <tr>\n",
       "      <th>5</th>\n",
       "      <td>mensualidad_3</td>\n",
       "      <td>1000</td>\n",
       "      <td>Apr 30, 2021</td>\n",
       "      <td>vestuario</td>\n",
       "      <td>50</td>\n",
       "      <td>Apr 25, 2021</td>\n",
       "    </tr>\n",
       "    <tr>\n",
       "      <th>6</th>\n",
       "      <td>mensualidad_4</td>\n",
       "      <td>1000</td>\n",
       "      <td>May 31, 2021</td>\n",
       "      <td>alimentacon</td>\n",
       "      <td>100</td>\n",
       "      <td>May 15, 2021</td>\n",
       "    </tr>\n",
       "  </tbody>\n",
       "</table>\n",
       "</div>"
      ],
      "text/plain": [
       "           Gastos2021Popa  cantidad        fechas Gastos2021Luis  cantidad.1  \\\n",
       "0               matricula       750  Jan 20, 2021      matricula         700   \n",
       "1                  zapato       300   Feb 9, 2021    combustible         100   \n",
       "2            mensulidad_U      1000  Feb 28, 2021   alimentacion          75   \n",
       "3  computadora_reparacion       300  Mar 10, 2021  mensualidad_U        1200   \n",
       "4           mensualidad_2      1000  Mar 31, 2021          salud          25   \n",
       "5           mensualidad_3      1000  Apr 30, 2021      vestuario          50   \n",
       "6           mensualidad_4      1000  May 31, 2021    alimentacon         100   \n",
       "\n",
       "       fechas.1  \n",
       "0  Jan 15, 2021  \n",
       "1  Feb 14, 2021  \n",
       "2   Mar 3, 2021  \n",
       "3   Mar 17,2021  \n",
       "4   Apr 2, 2021  \n",
       "5  Apr 25, 2021  \n",
       "6  May 15, 2021  "
      ]
     },
     "execution_count": 33,
     "metadata": {},
     "output_type": "execute_result"
    }
   ],
   "source": [
    "data = pd.read_csv(pathdata)\n",
    "data"
   ]
  },
  {
   "cell_type": "code",
   "execution_count": 41,
   "metadata": {},
   "outputs": [
    {
     "data": {
      "text/plain": [
       "Text(0.5, 1.0, 'Gastos de Luis Raul')"
      ]
     },
     "execution_count": 41,
     "metadata": {},
     "output_type": "execute_result"
    },
    {
     "data": {
      "image/png": "[encoded data removed]",
      "text/plain": [
       "<Figure size 432x288 with 1 Axes>"
      ]
     },
     "metadata": {
      "needs_background": "light"
     },
     "output_type": "display_data"
    }
   ],
   "source": [
    "#Pregunta No.3 \n",
    "import matplotlib.pyplot as plt\n",
    "\n",
    "plt.hist(data[\"cantidad.1\"], bins=10)\n",
    "plt.xlabel(\"fechas\")\n",
    "plt.ylabel(\"cantidad\")\n",
    "plt.title(\"Gastos de Luis Raul\")"
   ]
  }
 ],
 "metadata": {
  "kernelspec": {
   "display_name": "Python 3",
   "language": "python",
   "name": "python3"
  },
  "language_info": {
   "codemirror_mode": {
    "name": "ipython",
    "version": 3
   },
   "file_extension": ".py",
   "mimetype": "text/x-python",
   "name": "python",
   "nbconvert_exporter": "python",
   "pygments_lexer": "ipython3",
   "version": "3.8.5"
  }
 },
 "nbformat": 4,
 "nbformat_minor": 4
}
